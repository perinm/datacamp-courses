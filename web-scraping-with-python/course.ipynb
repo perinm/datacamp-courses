{
 "cells": [
  {
   "cell_type": "markdown",
   "metadata": {},
   "source": [
    "# Chapter 1"
   ]
  },
  {
   "cell_type": "code",
   "execution_count": 1,
   "metadata": {},
   "outputs": [],
   "source": [
    "# full path to body\n",
    "xpath = '/html/body'\n",
    "\n",
    "# takes to any div in doc\n",
    "xpath = '//div'\n",
    "\n",
    "# takes to any span which class equal 'span-class'\n",
    "xpath = \"//span[@class='span-class']\""
   ]
  },
  {
   "cell_type": "markdown",
   "metadata": {},
   "source": [
    "# Chapter 2"
   ]
  },
  {
   "cell_type": "code",
   "execution_count": null,
   "metadata": {},
   "outputs": [],
   "source": [
    "# * is the wildcard, takes to any and all childen \n",
    "xpath = '/html/body/*'\n",
    "\n",
    "# /* select all childen, or elements one generation below\n",
    "# //* selects all elements from all future generations of body\n",
    "\n",
    "xpath = '//div/div/*'\n",
    "\n",
    "# accesses every p that class equals 'class-1'\n",
    "xpath = '//p[@class=\"class-1\"]'\n",
    "\n",
    "# access every element that id equals 'uid'\n",
    "xpath = '//*[@id=\"uid\"]'\n",
    "\n",
    "# filter every div that id equals 'uid' and access second paragraph\n",
    "xpath = '//div[@id=\"uid\"]/p[2]'\n",
    "\n",
    "xpath = '/*[contains(@class, \"class-1\")]'\n",
    "\n",
    "xpath = '/html/body/div/p[2]/@class'\n",
    "\n",
    "from scrapy import Selector\n"
   ]
  }
 ],
 "metadata": {
  "interpreter": {
   "hash": "86302b44dcad1d7094de918017572b9c8de7b0221f67af7a00c43d702d456feb"
  },
  "kernelspec": {
   "display_name": "Python 3.8.5 64-bit ('base': conda)",
   "name": "python3"
  },
  "language_info": {
   "codemirror_mode": {
    "name": "ipython",
    "version": 3
   },
   "file_extension": ".py",
   "mimetype": "text/x-python",
   "name": "python",
   "nbconvert_exporter": "python",
   "pygments_lexer": "ipython3",
   "version": "3.8.5"
  },
  "orig_nbformat": 4
 },
 "nbformat": 4,
 "nbformat_minor": 2
}