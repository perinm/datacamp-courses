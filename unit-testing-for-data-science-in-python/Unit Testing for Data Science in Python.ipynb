{
 "cells": [
  {
   "source": [
    "# Chapter 1 - Unit testing basics\n"
   ],
   "cell_type": "markdown",
   "metadata": {}
  },
  {
   "cell_type": "code",
   "execution_count": null,
   "metadata": {},
   "outputs": [],
   "source": [
    "for row in [\"2,081\\t314,942\\n\", \"\\t293,410\\n\", \"1,463238,765\\n\"]:\n",
    "    print(row_to_list(row))\n",
    "\n",
    "for row in [\"2,081\\t314,942\\n\", \"\\t293,410\\n\", \"1,463238,765\\n\"]:\n",
    "    print(row_to_list_bugfix(row))"
   ]
  },
  {
   "cell_type": "code",
   "execution_count": null,
   "metadata": {},
   "outputs": [],
   "source": [
    "### Name this as test_convert_to_int.py\n",
    "# Import the pytest package\n",
    "import pytest\n",
    "\n",
    "# Import the function convert_to_int()\n",
    "from preprocessing_helpers import convert_to_int\n",
    "\n",
    "# Complete the unit test name by adding a prefix\n",
    "def test_on_string_with_one_comma():\n",
    "  # Complete the assert statement\n",
    "  assert convert_to_int(\"2,081\") == 2081"
   ]
  },
  {
   "cell_type": "code",
   "execution_count": null,
   "metadata": {},
   "outputs": [],
   "source": [
    "!pytest test_convert_to_int.py"
   ]
  },
  {
   "cell_type": "code",
   "execution_count": null,
   "metadata": {},
   "outputs": [],
   "source": [
    "def convert_to_int(string_with_comma):\n",
    "    # Fix this line so that it returns an int, not a str\n",
    "    return int(string_with_comma.replace(\",\", \"\"))"
   ]
  },
  {
   "cell_type": "code",
   "execution_count": null,
   "metadata": {},
   "outputs": [],
   "source": [
    "#!cat mystery_function.py\n",
    "import numpy as np\n",
    "\n",
    "def mystery_function(clean_data_file_path, num_columns):\n",
    "    result = np.empty((0, num_columns))\n",
    "    with open(clean_data_file_path, \"r\") as f:\n",
    "        rows = f.readlines()\n",
    "        for row_num in range(len(rows)):\n",
    "            try:\n",
    "                row = np.array([rows[row_num].rstrip(\"\\n\").split(\"\\t\")], dtype=float)\n",
    "            except ValueError:\n",
    "                raise ValueError(\"Line {0} of {1} is badly formatted\".format(\n",
    "                                     row_num + 1, clean_data_file_path\n",
    "                                     )\n",
    "                                 )\n",
    "            else:\n",
    "                if row.shape != (1, num_columns):\n",
    "                    raise ValueError(\"Line {0} of {1} does not have {2} columns\".format(\n",
    "                                         row_num + 1, clean_data_file_path, num_columns\n",
    "                                         )\n",
    "                                     )\n",
    "            result = np.append(result, row, axis=0)\n",
    "    return result"
   ]
  },
  {
   "cell_type": "code",
   "execution_count": null,
   "metadata": {},
   "outputs": [],
   "source": [
    "#!cat test_mystery_function.py\n",
    "import numpy as np\n",
    "import pytest\n",
    "\n",
    "from mystery_function import mystery_function\n",
    "\n",
    "def test_on_clean_data():\n",
    "    assert np.array_equal(mystery_function(\"example_clean_data.txt\", num_columns=2), np.array([[2081.0, 314942.0], [1059.0, 186606.0]]))"
   ]
  },
  {
   "source": [
    "# Chapter 2 - Intermediate unit testing"
   ],
   "cell_type": "markdown",
   "metadata": {}
  },
  {
   "cell_type": "code",
   "execution_count": null,
   "metadata": {},
   "outputs": [],
   "source": [
    "#!cat preprocessing_helpers.py\n",
    "def convert_to_int(integer_string_with_commas):\n",
    "    if len(integer_string_with_commas) > 3 and \",\" not in integer_string_with_commas:\n",
    "        return None\n",
    "    comma_separated_parts = integer_string_with_commas.split(\",\")\n",
    "    if not all([len(part) == 3 for part in comma_separated_parts]):\n",
    "        return None\n",
    "    integer_string_without_commas = \"\".join(comma_separated_parts)\n",
    "    try:\n",
    "        return integer_string_without_commas\n",
    "    except ValueError:\n",
    "        return None"
   ]
  },
  {
   "cell_type": "code",
   "execution_count": null,
   "metadata": {},
   "outputs": [],
   "source": [
    "import pytest\n",
    "from preprocessing_helpers import convert_to_int\n",
    "\n",
    "def test_on_string_with_one_comma():\n",
    "    test_argument = \"2,081\"\n",
    "    expected = 2081\n",
    "    actual = convert_to_int(test_argument)\n",
    "    # Format the string with the actual return value\n",
    "    message = \"convert_to_int('2,081') should return the int 2081, but it actually returned {0}\".format(actual)\n",
    "    # Write the assert statement which prints message on failure\n",
    "    assert actual == expected, message"
   ]
  },
  {
   "cell_type": "code",
   "execution_count": null,
   "metadata": {},
   "outputs": [],
   "source": [
    "import numpy as np\n",
    "import pytest\n",
    "from as_numpy import get_data_as_numpy_array\n",
    "\n",
    "def test_on_clean_file():\n",
    "  expected = np.array([[2081.0, 314942.0],\n",
    "                       [1059.0, 186606.0],\n",
    "  \t\t\t\t\t   [1148.0, 206186.0]\n",
    "                       ]\n",
    "                      )\n",
    "  actual = get_data_as_numpy_array(\"example_clean_data.txt\", num_columns=2)\n",
    "  message = \"Expected return value: {0}, Actual return value: {1}\".format(expected, actual)\n",
    "  # Complete the assert statement\n",
    "  assert actual == pytest.approx(expected), message"
   ]
  },
  {
   "cell_type": "code",
   "execution_count": 1,
   "metadata": {},
   "outputs": [
    {
     "output_type": "stream",
     "name": "stderr",
     "text": [
      "UsageError: Line magic function `%pytest` not found.\n"
     ]
    }
   ],
   "source": [
    "import pytest\n",
    "\n",
    "def test_on_six_rows():\n",
    "    example_argument = np.array([[2081.0, 314942.0], [1059.0, 186606.0],\n",
    "                                 [1148.0, 206186.0], [1506.0, 248419.0],\n",
    "                                 [1210.0, 214114.0], [1697.0, 277794.0]]\n",
    "                                )\n",
    "    # Fill in with training array's expected number of rows\n",
    "    expected_training_array_num_rows = 4\n",
    "    # Fill in with testing array's expected number of rows\n",
    "    expected_testing_array_num_rows = 2\n",
    "    actual = split_into_training_and_testing_sets(example_argument)\n",
    "    # Write the assert statement checking training array's number of rows\n",
    "    assert actual[0].shape[0] == expected_training_array_num_rows, \"The actual number of rows in the training array is not {}\".format(expected_training_array_num_rows)\n",
    "    # Write the assert statement checking testing array's number of rows\n",
    "    assert actual[1].shape[0] == expected_testing_array_num_rows, \"The actual number of rows in the testing array is not {}\".format(expected_testing_array_num_rows)"
   ]
  },
  {
   "cell_type": "code",
   "execution_count": null,
   "metadata": {},
   "outputs": [],
   "source": []
  }
 ],
 "metadata": {
  "kernelspec": {
   "name": "python385jvsc74a57bd086302b44dcad1d7094de918017572b9c8de7b0221f67af7a00c43d702d456feb",
   "display_name": "Python 3.8.5 64-bit ('base': conda)"
  },
  "language_info": {
   "codemirror_mode": {
    "name": "ipython",
    "version": 3
   },
   "file_extension": ".py",
   "mimetype": "text/x-python",
   "name": "python",
   "nbconvert_exporter": "python",
   "pygments_lexer": "ipython3",
   "version": "3.8.5"
  }
 },
 "nbformat": 4,
 "nbformat_minor": 4
}